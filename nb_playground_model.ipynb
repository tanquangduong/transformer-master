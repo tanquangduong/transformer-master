{
 "cells": [
  {
   "cell_type": "code",
   "execution_count": 1,
   "metadata": {},
   "outputs": [],
   "source": [
    "import torch\n",
    "import torch.nn as nn\n",
    "import math"
   ]
  },
  {
   "cell_type": "code",
   "execution_count": 2,
   "metadata": {},
   "outputs": [
    {
     "data": {
      "text/plain": [
       "Parameter containing:\n",
       "tensor([1., 1., 1.], requires_grad=True)"
      ]
     },
     "execution_count": 2,
     "metadata": {},
     "output_type": "execute_result"
    }
   ],
   "source": [
    "nn.Parameter(torch.ones(3))"
   ]
  },
  {
   "cell_type": "code",
   "execution_count": 3,
   "metadata": {},
   "outputs": [
    {
     "name": "stdout",
     "output_type": "stream",
     "text": [
      "torch.Size([10, 20, 512])\n"
     ]
    }
   ],
   "source": [
    "import torch\n",
    "from torch import nn\n",
    "\n",
    "class LayerNormalization(nn.Module):\n",
    "    def __init__(self, features: int, eps:float=10**-6):\n",
    "        super().__init__()\n",
    "        self.eps = eps\n",
    "        self.alpha = nn.Parameter(torch.ones(features)) # alpha is a learnable parameter\n",
    "        self.bias = nn.Parameter(torch.zeros(features)) # bias is a learnable parameter\n",
    "\n",
    "    def forward(self, x):\n",
    "        mean = x.mean(dim=-1, keepdim=True) # (batch, seq_len, 1)\n",
    "        std = x.std(dim=-1, keepdim=True) # (batch, seq_len, 1)\n",
    "        return self.alpha * (x - mean) / (std + self.eps) + self.bias\n",
    "\n",
    "# Create an instance of LayerNormalization\n",
    "layer_norm = LayerNormalization(features=512)\n",
    "\n",
    "# Create a random tensor of shape (batch_size, seq_len, hidden_size). represent a batch of 10 sequences, each of length 20, with 512 features for each token in the sequence.\n",
    "x = torch.randn(10, 20, 512)\n",
    "\n",
    "# Apply layer normalization\n",
    "output = layer_norm(x)\n",
    "\n",
    "print(output.shape)  # Should print: torch.Size([10, 20, 512])"
   ]
  },
  {
   "cell_type": "code",
   "execution_count": null,
   "metadata": {},
   "outputs": [],
   "source": []
  },
  {
   "cell_type": "code",
   "execution_count": 4,
   "metadata": {},
   "outputs": [
    {
     "name": "stdout",
     "output_type": "stream",
     "text": [
      "torch.Size([10, 20, 512])\n"
     ]
    }
   ],
   "source": [
    "import torch\n",
    "from torch import nn\n",
    "import math\n",
    "\n",
    "class InputEmbedding(nn.Module):\n",
    "    def __init__(self, d_model: int, vocab_size: int):\n",
    "        super().__init__()\n",
    "        self.d_model = d_model\n",
    "        self.vocab_size = vocab_size\n",
    "        self.embedding = nn.Embedding(vocab_size, d_model)\n",
    "    \n",
    "    def forward(self, x):\n",
    "        # x: (batch, seq_len) -> (batch, seq_len, d_model)\n",
    "        return self.embedding(x) * math.sqrt(self.d_model)\n",
    "\n",
    "# Create an instance of InputEmbedding\n",
    "input_embedding = InputEmbedding(d_model=512, vocab_size=10000)\n",
    "\n",
    "# Create a random tensor of shape (batch_size, seq_len)\n",
    "x = torch.randint(0, 10000, (10, 20))\n",
    "\n",
    "# Apply the input embedding\n",
    "output = input_embedding(x)\n",
    "\n",
    "print(output.shape)  # Should print: torch.Size([10, 20, 512])"
   ]
  },
  {
   "cell_type": "code",
   "execution_count": 6,
   "metadata": {},
   "outputs": [
    {
     "data": {
      "text/plain": [
       "tensor([ -2.8158,  -2.9024,  15.4488,   4.5374,  16.8493,  47.5993,  34.5922,\n",
       "        -39.0154,  28.3406,   9.8365], grad_fn=<SliceBackward0>)"
      ]
     },
     "execution_count": 6,
     "metadata": {},
     "output_type": "execute_result"
    }
   ],
   "source": [
    "output[0, 0, :10]  # Print the first 10 values of the first token of the first sequence"
   ]
  },
  {
   "cell_type": "code",
   "execution_count": 7,
   "metadata": {},
   "outputs": [
    {
     "name": "stdout",
     "output_type": "stream",
     "text": [
      "tensor([[[-0.7645, -0.3030, -0.2605, -1.3264, -0.7835],\n",
      "         [-1.4815, -1.0590,  0.5636,  1.1329,  0.6071],\n",
      "         [ 1.1266, -0.6958, -0.4362,  0.1131,  0.1246]],\n",
      "\n",
      "        [[ 0.6811, -0.5672,  0.0780,  1.5076,  0.4472],\n",
      "         [ 2.1869,  0.1602, -0.1720, -0.5146,  1.3993],\n",
      "         [-1.0243,  0.1687, -0.1505,  0.6010,  0.2788]]],\n",
      "       grad_fn=<EmbeddingBackward0>)\n"
     ]
    }
   ],
   "source": [
    "import torch\n",
    "from torch import nn\n",
    "\n",
    "# Create an embedding layer that can handle 10 unique tokens (vocab_size=10),\n",
    "# and each token is represented as a 5-dimensional vector (embedding_dim=5).\n",
    "embedding = nn.Embedding(10, 5)\n",
    "\n",
    "# Create a tensor of token IDs. In this case, we have a batch of 2 sequences,\n",
    "# each of length 3. The token IDs are integers between 0 and 9.\n",
    "x = torch.tensor([[1, 2, 3], [4, 5, 6]])\n",
    "\n",
    "# Apply the embedding layer to x. Each token ID in x is replaced by its embedding.\n",
    "y = embedding(x)\n",
    "\n",
    "print(y)"
   ]
  },
  {
   "cell_type": "code",
   "execution_count": 8,
   "metadata": {},
   "outputs": [
    {
     "name": "stdout",
     "output_type": "stream",
     "text": [
      "torch.Size([2, 3, 5])\n"
     ]
    }
   ],
   "source": [
    "print(y.shape)"
   ]
  },
  {
   "cell_type": "code",
   "execution_count": null,
   "metadata": {},
   "outputs": [],
   "source": []
  }
 ],
 "metadata": {
  "kernelspec": {
   "display_name": "aiapp",
   "language": "python",
   "name": "python3"
  },
  "language_info": {
   "codemirror_mode": {
    "name": "ipython",
    "version": 3
   },
   "file_extension": ".py",
   "mimetype": "text/x-python",
   "name": "python",
   "nbconvert_exporter": "python",
   "pygments_lexer": "ipython3",
   "version": "3.10.13"
  }
 },
 "nbformat": 4,
 "nbformat_minor": 2
}
